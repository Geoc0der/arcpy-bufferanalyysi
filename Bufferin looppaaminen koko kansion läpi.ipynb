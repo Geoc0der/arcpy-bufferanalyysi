{
 "cells": [
  {
   "cell_type": "code",
   "execution_count": 1,
   "metadata": {},
   "outputs": [],
   "source": [
    "import arcpy, os, string\n",
    "\n",
    "# Asetetaan root-kansion polku\n",
    "rootFolder = 'C:\\Paikalliset työkansiot\\Python-kurssi\\Kansion läpi looppaamisen tiedostot'\n",
    "\n",
    "# Laskimen alustus\n",
    "ctr = 1\n",
    "\n",
    "# Ilmeisesti tämä eka for-loop käy nyt läpi kaikki root-kansion alikansiot ja niissä olevat tiedostot\n",
    "for root, dirs, files in os.walk(rootFolder):\n",
    "    # Käydään läpi tiedostot\n",
    "   for name in files:\n",
    "      # Suoritetaan operaatiot niille tiedostoille, jotka ovat shapefileja\n",
    "      if name.endswith(\".shp\"):\n",
    "         # shapefile name without extension\n",
    "         shpName = os.path.splitext(name)[0]\n",
    "         # absolute file path\n",
    "         absFile = os.path.abspath(os.path.join(root,name))     \n",
    "         # output file path    \n",
    "         output_layer = rootFolder + '\\\\buffer_' + shpName + '_' + str(ctr) + '.shp'         \n",
    "         # buffer\n",
    "         arcpy.Buffer_analysis(absFile, output_layer, \"1 Kilometers\", \"FULL\", \"ROUND\", \"ALL\", \"\") \n",
    "         ctr = ctr + 1"
   ]
  },
  {
   "cell_type": "code",
   "execution_count": null,
   "metadata": {},
   "outputs": [],
   "source": []
  }
 ],
 "metadata": {
  "kernelspec": {
   "display_name": "ArcGISPro",
   "language": "Python",
   "name": "python3"
  },
  "language_info": {
   "file_extension": ".py",
   "name": "python",
   "version": "3"
  }
 },
 "nbformat": 4,
 "nbformat_minor": 2
}
