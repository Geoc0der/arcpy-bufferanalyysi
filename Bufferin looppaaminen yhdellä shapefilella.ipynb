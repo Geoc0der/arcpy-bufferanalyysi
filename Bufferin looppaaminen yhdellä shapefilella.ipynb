{
 "cells": [
  {
   "cell_type": "code",
   "execution_count": 7,
   "metadata": {},
   "outputs": [],
   "source": [
    "import arcpy\n",
    "\n",
    "# määritellään polku, jossa bufferoitava tiedosto sijaitsee. Tänne myös valmis analyysi tallennetaan.\n",
    "arcpy.env.workspace = \"C:\\Paikalliset työkansiot\\Turun täydennysrakentaminen\\Asemakaavat vireillä\"\n",
    "\n",
    "# nimetään bufferoitava tiedosto. Ei tietoa miksi pitää olla kaksi kenoviivaa.\n",
    "tontit = arcpy.env.workspace + \"\\\\Ak_vireilla.shp\"\n",
    "\n",
    "# määritellään metreissä bufferietäisyydet\n",
    "buffDists = [10000,50000]\n",
    "\n",
    "# loopataan aineisto määriteltyjen etäisyyksien avulla ja tallennetaan valmiit shapet.\n",
    "for buff in buffDists:\n",
    "\ttonttioutput = arcpy.env.workspace + \"\\\\tontti\" + str(buff) + \".shp\"\n",
    "\tarcpy.analysis.Buffer(tontit, tonttioutput, str(buff)+ \" Meters\",\"FULL\",\"ROUND\",\"NONE\",None,\"PLANAR\")"
   ]
  },
  {
   "cell_type": "code",
   "execution_count": null,
   "metadata": {},
   "outputs": [],
   "source": []
  }
 ],
 "metadata": {
  "kernelspec": {
   "display_name": "ArcGISPro",
   "language": "Python",
   "name": "python3"
  },
  "language_info": {
   "file_extension": ".py",
   "name": "python",
   "version": "3"
  }
 },
 "nbformat": 4,
 "nbformat_minor": 2
}
